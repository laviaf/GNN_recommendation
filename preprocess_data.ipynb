{
 "cells": [
  {
   "cell_type": "code",
   "execution_count": null,
   "metadata": {},
   "outputs": [],
   "source": [
    "import pandas as pd\n",
    "import json\n",
    "from dateutil.parser import parse\n",
    "from collections import defaultdict\n",
    "from tqdm import tqdm\n",
    "from gensim.models import Word2Vec"
   ]
  },
  {
   "cell_type": "code",
   "execution_count": null,
   "metadata": {},
   "outputs": [],
   "source": [
    "interaction_path = '/home/DATA1/lvxiaoling/linzhongtan/2022fall_anime_recommendation/preprocessed_data/interaction.tsv'\n",
    "interaction = pd.read_csv(interaction_path,sep='\\t')"
   ]
  },
  {
   "cell_type": "code",
   "execution_count": null,
   "metadata": {},
   "outputs": [],
   "source": [
    "interaction_time = interaction['updated_at'].tolist()\n",
    "new_time = []\n",
    "for i in range(len(interaction_time)):\n",
    "    if i%1000 == 0:\n",
    "        print(i)\n",
    "    new_time.append(parse(interaction_time[i]))\n",
    "interaction['updated_at'] = new_time\n",
    "interaction = interaction.sort_values('updated_at')\n",
    "selected = interaction[(pd.Timestamp(2020,1,1)<=interaction['updated_at']) & (interaction['updated_at']<=pd.Timestamp(2022,3,31))]"
   ]
  },
  {
   "cell_type": "code",
   "execution_count": null,
   "metadata": {},
   "outputs": [],
   "source": [
    "user_ids = selected['user_id'].tolist()\n",
    "item_ids = selected['subject_id'].tolist()\n",
    "user_dict = defaultdict(int)\n",
    "item_dict = defaultdict(int)\n",
    "for i in range(len(selected)):\n",
    "    if i%1000000 == 0:\n",
    "        print(i)\n",
    "    user_id = user_ids[i]\n",
    "    item_id = item_ids[i]\n",
    "    if user_id not in user_dict:\n",
    "        user_dict[user_id] = len(user_dict)\n",
    "    if item_id not in user_dict:\n",
    "        item_dict[item_id] = len(item_dict)"
   ]
  },
  {
   "cell_type": "code",
   "execution_count": null,
   "metadata": {},
   "outputs": [],
   "source": [
    "selected['user_id'] = selected['user_id'].apply(lambda x:user_dict[x])\n",
    "selected['subject_id'] = selected['subject_id'].apply(lambda x:item_dict[x]+len(user_dict))\n",
    "train = selected[selected['updated_at']<pd.Timestamp(2022,1,1)]\n",
    "test = selected[pd.Timestamp(2022,1,1)<=selected['updated_at']]\n",
    "train.reset_index(drop=True,inplace=True)\n",
    "test.reset_index(drop=True,inplace=True)"
   ]
  },
  {
   "cell_type": "code",
   "execution_count": null,
   "metadata": {},
   "outputs": [],
   "source": [
    "save_path = '/home/DATA1/xiweicheng/STAM/data/anime'\n",
    "with open(os.path.join(save_path,'train.txt'), 'w') as T:\n",
    "    for i in range(len(train)):\n",
    "        T.write(str(train.loc[i,'user_id']) + '\\t' + str(train.loc[i,'subject_id']) + '\\n')\n",
    "\n",
    "with open(os.path.join(save_path,'test.txt'), 'w') as T:\n",
    "    for i in range(len(test)):\n",
    "        T.write(str(test.loc[i,'user_id']) + '\\t' + str(test.loc[i,'subject_id']) + '\\n')"
   ]
  },
  {
   "cell_type": "code",
   "execution_count": null,
   "metadata": {},
   "outputs": [],
   "source": [
    "selected['tags'] = selected['tags'].apply(lambda x:x.strip('[').strip(']').replace('\\'',''))\n",
    "gb = selected.groupby('user_id')\n",
    "tags = gb.apply(lambda g: ','.join(g.tags))\n",
    "user_tags = tags.apply(lambda x:list(set(x.split(','))))\n",
    "for i in user_tags:\n",
    "    if '' in i:\n",
    "        i.remove('')\n",
    "\n",
    "selected['tags'] = selected['tags'].apply(lambda x:x.strip('[').strip(']').replace('\\'',''))\n",
    "gb = selected.groupby('subject_id')\n",
    "tags = gb.apply(lambda g: ','.join(g.tags))\n",
    "item_tags = tags.apply(lambda x:list(set(x.split(','))))\n",
    "for i in item_tags:\n",
    "    if '' in i:\n",
    "        i.remove('')"
   ]
  },
  {
   "cell_type": "code",
   "execution_count": null,
   "metadata": {},
   "outputs": [],
   "source": [
    "all_tags = user_tags.append(item_tags)\n",
    "tags = np.concatenate(all_tags.values)\n",
    "tags = [[str(s).strip()] for s in tags]"
   ]
  },
  {
   "cell_type": "code",
   "execution_count": null,
   "metadata": {},
   "outputs": [],
   "source": [
    "model = Word2Vec(sentences=tags, vector_size=100, min_count=1, workers=4)\n",
    "tags_embeddings = {}\n",
    "for t in tags:\n",
    "    tags_embeddings[t[0]] = model.wv[t[0]].tolist()"
   ]
  },
  {
   "cell_type": "code",
   "execution_count": null,
   "metadata": {},
   "outputs": [],
   "source": [
    "with open('data/anime/tags_embedding.json','w') as f:\n",
    "    f.write(json.dumps(tags_embeddings))"
   ]
  },
  {
   "cell_type": "code",
   "execution_count": null,
   "metadata": {},
   "outputs": [],
   "source": [
    "user_embeddings = []\n",
    "for idx, tags in enumerate(user_tags):\n",
    "    ebs = []\n",
    "    for t in tags:\n",
    "        ebs.append(tags_embeddings[t.strip()])\n",
    "    user_embeddings.append(np.mean(ebs, axis=0).tolist())\n",
    "\n",
    "item_embeddings = []\n",
    "for idx, tags in enumerate(item_tags):\n",
    "    ebs = []\n",
    "    for t in tags:\n",
    "        ebs.append(tags_embeddings[t.strip()])\n",
    "    item_embeddings.append(np.mean(ebs, axis=0).tolist())"
   ]
  },
  {
   "cell_type": "code",
   "execution_count": null,
   "metadata": {},
   "outputs": [],
   "source": [
    "with open('data/anime/embeddings.json', 'w') as f:\n",
    "    f.write(json.dumps({'user':user_embeddings, 'item':item_embeddings}))"
   ]
  }
 ],
 "metadata": {
  "kernelspec": {
   "display_name": "Python 3.8.15 ('xiweicheng')",
   "language": "python",
   "name": "python3"
  },
  "language_info": {
   "codemirror_mode": {
    "name": "ipython",
    "version": 3
   },
   "file_extension": ".py",
   "mimetype": "text/x-python",
   "name": "python",
   "nbconvert_exporter": "python",
   "pygments_lexer": "ipython3",
   "version": "3.8.15"
  },
  "orig_nbformat": 4,
  "vscode": {
   "interpreter": {
    "hash": "1ef0b8139c577566aa3e07a47ddc730f546f8bc1bc861aaaaa7a3e8c4fa177d1"
   }
  }
 },
 "nbformat": 4,
 "nbformat_minor": 2
}
